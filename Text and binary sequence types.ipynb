{
 "cells": [
  {
   "cell_type": "code",
   "execution_count": 1,
   "metadata": {},
   "outputs": [],
   "source": [
    "import base64"
   ]
  },
  {
   "cell_type": "markdown",
   "metadata": {},
   "source": [
    "# Text and binary sequence types\n",
    "\n",
    "I ran into a lot of frustration around `str` and `bytes` types in Python and interpreting what any given sequence of characters might actually represent. In the very first problem, the instructions say to encode this input \"string\": \n",
    "\n",
    "    49276d206b696c6c696e6720796f757220627261696e206c696b65206120706f69736f6e6f7573206d757368726f6f6d\n",
    "    \n",
    "I quite reasonably wrapped that thing in quotation marks, handed it to Python and tried to encode it, and Python was unhappy."
   ]
  },
  {
   "cell_type": "code",
   "execution_count": 2,
   "metadata": {
    "scrolled": true
   },
   "outputs": [
    {
     "ename": "TypeError",
     "evalue": "a bytes-like object is required, not 'str'",
     "output_type": "error",
     "traceback": [
      "\u001b[0;31m---------------------------------------------------------------------------\u001b[0m",
      "\u001b[0;31mTypeError\u001b[0m                                 Traceback (most recent call last)",
      "\u001b[0;32m<ipython-input-2-d36c478b70bb>\u001b[0m in \u001b[0;36m<module>\u001b[0;34m\u001b[0m\n\u001b[1;32m      1\u001b[0m i = (\"49276d206b696c6c696e6720796f757220627261696e206c\"\n\u001b[1;32m      2\u001b[0m      \"696b65206120706f69736f6e6f7573206d757368726f6f6d\")  # python compile-type string concatenation\n\u001b[0;32m----> 3\u001b[0;31m \u001b[0mbase64\u001b[0m\u001b[0;34m.\u001b[0m\u001b[0mb64encode\u001b[0m\u001b[0;34m(\u001b[0m\u001b[0mi\u001b[0m\u001b[0;34m)\u001b[0m\u001b[0;34m\u001b[0m\u001b[0;34m\u001b[0m\u001b[0m\n\u001b[0m",
      "\u001b[0;32m~/.pyenv/versions/3.8.2/lib/python3.8/base64.py\u001b[0m in \u001b[0;36mb64encode\u001b[0;34m(s, altchars)\u001b[0m\n\u001b[1;32m     56\u001b[0m     \u001b[0mapplication\u001b[0m \u001b[0mto\u001b[0m \u001b[0me\u001b[0m\u001b[0;34m.\u001b[0m\u001b[0mg\u001b[0m\u001b[0;34m.\u001b[0m \u001b[0mgenerate\u001b[0m \u001b[0murl\u001b[0m \u001b[0;32mor\u001b[0m \u001b[0mfilesystem\u001b[0m \u001b[0msafe\u001b[0m \u001b[0mBase64\u001b[0m \u001b[0mstrings\u001b[0m\u001b[0;34m.\u001b[0m\u001b[0;34m\u001b[0m\u001b[0;34m\u001b[0m\u001b[0m\n\u001b[1;32m     57\u001b[0m     \"\"\"\n\u001b[0;32m---> 58\u001b[0;31m     \u001b[0mencoded\u001b[0m \u001b[0;34m=\u001b[0m \u001b[0mbinascii\u001b[0m\u001b[0;34m.\u001b[0m\u001b[0mb2a_base64\u001b[0m\u001b[0;34m(\u001b[0m\u001b[0ms\u001b[0m\u001b[0;34m,\u001b[0m \u001b[0mnewline\u001b[0m\u001b[0;34m=\u001b[0m\u001b[0;32mFalse\u001b[0m\u001b[0;34m)\u001b[0m\u001b[0;34m\u001b[0m\u001b[0;34m\u001b[0m\u001b[0m\n\u001b[0m\u001b[1;32m     59\u001b[0m     \u001b[0;32mif\u001b[0m \u001b[0maltchars\u001b[0m \u001b[0;32mis\u001b[0m \u001b[0;32mnot\u001b[0m \u001b[0;32mNone\u001b[0m\u001b[0;34m:\u001b[0m\u001b[0;34m\u001b[0m\u001b[0;34m\u001b[0m\u001b[0m\n\u001b[1;32m     60\u001b[0m         \u001b[0;32massert\u001b[0m \u001b[0mlen\u001b[0m\u001b[0;34m(\u001b[0m\u001b[0maltchars\u001b[0m\u001b[0;34m)\u001b[0m \u001b[0;34m==\u001b[0m \u001b[0;36m2\u001b[0m\u001b[0;34m,\u001b[0m \u001b[0mrepr\u001b[0m\u001b[0;34m(\u001b[0m\u001b[0maltchars\u001b[0m\u001b[0;34m)\u001b[0m\u001b[0;34m\u001b[0m\u001b[0;34m\u001b[0m\u001b[0m\n",
      "\u001b[0;31mTypeError\u001b[0m: a bytes-like object is required, not 'str'"
     ]
    }
   ],
   "source": [
    "i = (\"49276d206b696c6c696e6720796f757220627261696e206c\"\n",
    "     \"696b65206120706f69736f6e6f7573206d757368726f6f6d\")  # python compile-type string concatenation\n",
    "base64.b64encode(i)"
   ]
  },
  {
   "cell_type": "markdown",
   "metadata": {},
   "source": [
    "I guess fair enough. A _string_ isn't a thing in super-duper-literal Python: the data type is `str` and it doesn't implement the [buffer protocol](https://docs.python.org/3/c-api/buffer.html#bufferobjects), whatever that is. I can prepend a `b` to that string above and try encoding again.\n",
    "\n",
    "---\n",
    "\n",
    "<details>\n",
    "    <summary>Some side info about synonyms:</summary>\n",
    "    <p>\n",
    "The following are both equivalent to `b\"49276d206b69\"`.\n",
    "\n",
    "    \"49276d206b69\".encode('ascii')\n",
    "    bytes(\"49276d206b69\", 'ascii')\n",
    "    </p>\n",
    "</details>"
   ]
  },
  {
   "cell_type": "code",
   "execution_count": 3,
   "metadata": {},
   "outputs": [
    {
     "data": {
      "text/plain": [
       "b'NDkyNzZkMjA2YjY5NmM2YzY5NmU2NzIwNzk2Zjc1NzIyMDYyNzI2MTY5NmUyMDZjNjk2YjY1MjA2MTIwNzA2ZjY5NzM2ZjZlNmY3NTczMjA2ZDc1NzM2ODcyNmY2ZjZk'"
      ]
     },
     "execution_count": 3,
     "metadata": {},
     "output_type": "execute_result"
    }
   ],
   "source": [
    "i = (b\"49276d206b696c6c696e6720796f757220627261696e206c\"\n",
    "     b\"696b65206120706f69736f6e6f7573206d757368726f6f6d\")\n",
    "base64.b64encode(i)"
   ]
  },
  {
   "cell_type": "markdown",
   "metadata": {},
   "source": [
    "No error this time, but not the correct answer. \n",
    "\n",
    "I wonder what the `bytes.fromhex` function does... "
   ]
  },
  {
   "cell_type": "code",
   "execution_count": 4,
   "metadata": {},
   "outputs": [
    {
     "data": {
      "text/plain": [
       "b\"I'm killing your brain like a poisonous mushroom\""
      ]
     },
     "execution_count": 4,
     "metadata": {},
     "output_type": "execute_result"
    }
   ],
   "source": [
    "bytes.fromhex(\"49276d206b696c6c696e6720796f757220627261696e206c\"\n",
    "              \"696b65206120706f69736f6e6f7573206d757368726f6f6d\")"
   ]
  },
  {
   "cell_type": "markdown",
   "metadata": {},
   "source": [
    "Interesting. Honestly, if I were going to encode something, a message with actual content such as \"I'm killing your brain like a poisonous mushroom\" makes more sense than a string of hex-digits. Also, Python is telling me that the `base64.b64encode` function wants a bytes-like object. Putting that hypothesis and that fact together:"
   ]
  },
  {
   "cell_type": "code",
   "execution_count": 5,
   "metadata": {},
   "outputs": [
    {
     "data": {
      "text/plain": [
       "b'SSdtIGtpbGxpbmcgeW91ciBicmFpbiBsaWtlIGEgcG9pc29ub3VzIG11c2hyb29t'"
      ]
     },
     "execution_count": 5,
     "metadata": {},
     "output_type": "execute_result"
    }
   ],
   "source": [
    "i = (\"49276d206b696c6c696e6720796f757220627261696e206c\"\n",
    "     \"696b65206120706f69736f6e6f7573206d757368726f6f6d\")\n",
    "base64.b64encode(bytes.fromhex(i))"
   ]
  },
  {
   "cell_type": "markdown",
   "metadata": {},
   "source": [
    "Brilliant!\n",
    "\n",
    "This nonsense of strings being a `bytes` string or strings being a `str` string or strings being a `str` string but all the characters are hex-digits happens a ton in the world of cryptopals, so I made up some definitions to help keep things straight in my mind.\n",
    "\n",
    "A __string__ is a human-readable plaintext `str` object.\n",
    "\n",
    "A __bytes__ is a human-readable plaintext `bytes` object.\n",
    "\n",
    "A __hex-encoded string__ is a `str` object `s` such that `all(ch in string.hexdigits for ch in s)` obtains.\n",
    "\n",
    "A __number__ is an object `n` such that `isinstance(n, Number)` obtains. Numbers are in base-10 unless they're explicitly not."
   ]
  }
 ],
 "metadata": {
  "kernelspec": {
   "display_name": "Python 3",
   "language": "python",
   "name": "python3"
  },
  "language_info": {
   "codemirror_mode": {
    "name": "ipython",
    "version": 3
   },
   "file_extension": ".py",
   "mimetype": "text/x-python",
   "name": "python",
   "nbconvert_exporter": "python",
   "pygments_lexer": "ipython3",
   "version": "3.8.2"
  }
 },
 "nbformat": 4,
 "nbformat_minor": 4
}
