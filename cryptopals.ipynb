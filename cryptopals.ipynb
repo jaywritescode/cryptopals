{
 "cells": [
  {
   "cell_type": "markdown",
   "metadata": {},
   "source": [
    "## Set 1\n",
    "\n",
    "This is the story of my journey through [the cryptopals crypto challenges](https://cryptopals.com/). I ran into Cryptopals online while trying to solve some other ones-and-zeroes puzzle I was totally unequipped for, and I took up the challenges because they seemed... not easy, but digestable. And they are.\n",
    "\n",
    "But they also led me into some areas of Python where I rarely tread, so I'm laying down a path and taking notes. The notes are really for me, but if someone else finds them useful then spread the love.\n",
    "\n",
    "###  Challenge 1: Convert hex to base64\n",
    "\n",
    "> The string:\n",
    ">\n",
    "> `49276d206b696c6c696e6720796f757220627261696e206c696b65206120706f69736f6e6f7573206d757368726f6f6d`\n",
    ">\n",
    "> Should produce\n",
    ">\n",
    "> `SSdtIGtpbGxpbmcgeW91ciBicmFpbiBsaWtlIGEgcG9pc29ub3VzIG11c2hyb29t`\n",
    ">\n",
    "> So go ahead and make that happen.\n",
    "\n",
    "---\n",
    "\n",
    "#### A big discovery!\n",
    "\n",
    "`49276d206b696c6c696e6720796f757220627261696e206c696b65206120706f69736f6e6f7573206d757368726f6f6d` is _not_ a string. \"string,\" of course, isn't a thing in Python: the data types are called **str** and **bytes**, but that behemoth isn't one of those either. \n",
    "\n",
    "It's a _hexadecimal number_. In Python, you can pass it to a standard library function, `bytes.fromhex`, to turn it into something more human-readable. But for the most part, we'll be looking at it and its kin in its less-readable form, a sequence of zeroes and ones.\n",
    "\n",
    "[Link to more background.](sequence-types.ipynb)\n",
    "\n",
    "#### Solution"
   ]
  },
  {
   "cell_type": "code",
   "execution_count": 21,
   "metadata": {},
   "outputs": [
    {
     "data": {
      "text/plain": [
       "b'SSdtIGtpbGxpbmcgeW91ciBicmFpbiBsaWtlIGEgcG9pc29ub3VzIG11c2hyb29t'"
      ]
     },
     "execution_count": 21,
     "metadata": {},
     "output_type": "execute_result"
    }
   ],
   "source": [
    "import base64\n",
    "\n",
    "def to_base64(hexstring):\n",
    "    \"\"\"\n",
    "    :param hexstring: a hexadecimal-encoded string\n",
    "    :return: the base64 encoding of `hexstring` as a `bytes`\n",
    "    \"\"\"\n",
    "    return base64.b64encode(bytes.fromhex(hexstring))\n",
    "    \n",
    "to_base64('49276d206b696c6c696e6720796f757220627261696e206c'\n",
    "          '696b65206120706f69736f6e6f7573206d757368726f6f6d')"
   ]
  },
  {
   "cell_type": "markdown",
   "metadata": {},
   "source": [
    "### Challenge 2: Fixed XOR\n",
    "\n",
    "> Write a function that takes two equal-length buffers and produces their XOR combination.\n",
    "> \n",
    "> If your function works properly, then when you feed it the string:\n",
    "> \n",
    "> `1c0111001f010100061a024b53535009181c`\n",
    "> \n",
    "> ... after hex decoding, and when XOR'd against:\n",
    "> \n",
    "> `686974207468652062756c6c277320657965`\n",
    ">\n",
    "> ... should produce:\n",
    "> \n",
    "> `746865206b696420646f6e277420706c6179`\n",
    "\n",
    "---\n",
    "\n",
    "Looking ahead, I think the Cryptopals are trying to get us used to the idea of bitwise calculations, like literally iterating one bit at a time:\n",
    "\n",
    "        m = 11100000\n",
    "        n = 11010000\n",
    "    ----------------\n",
    "    m ^ n = 00110...\n",
    "\n",
    "#### Solution\n",
    "\n",
    "Looking ahead again, it seems useful for this method to take two **bytes** as parameters instead of two **str** objects."
   ]
  },
  {
   "cell_type": "code",
   "execution_count": 22,
   "metadata": {},
   "outputs": [
    {
     "data": {
      "text/plain": [
       "'746865206b696420646f6e277420706c6179'"
      ]
     },
     "execution_count": 22,
     "metadata": {},
     "output_type": "execute_result"
    }
   ],
   "source": [
    "def fixed_xor(m, n):\n",
    "    \"\"\"\n",
    "    Given `m` and `n` as bytes, calculate the bitwise exclusive-or of `m` and `n`.\n",
    "    \n",
    "    :param m: a bytes\n",
    "    :param n: another bytes\n",
    "    :return: a bytes\n",
    "    \"\"\"\n",
    "    return bytes(x ^ y for x, y in zip(m, n))\n",
    "                 \n",
    "fixed_xor(bytes.fromhex('1c0111001f010100061a024b53535009181c'),\n",
    "          bytes.fromhex('686974207468652062756c6c277320657965')).hex()"
   ]
  },
  {
   "cell_type": "markdown",
   "metadata": {},
   "source": [
    "### Challenge 3: Single-byte XOR cipher\n",
    "\n",
    "> The hex encoded string:\n",
    "\n",
    "> `1b37373331363f78151b7f2b783431333d78397828372d363c78373e783a393b3736`\n",
    "\n",
    "> ... has been XOR'd against a single character. Find the key, decrypt the message.\n",
    "\n",
    "Single-byte XOR means we have a one-character (i.e. one byte) key $k$, and we replace each byte $b$ of our message with $b \\oplus k$.\n",
    "\n",
    "#### Solution — part 1\n",
    "\n",
    "It turns out that the following function shouldn't be exposed outside of Challenge 3, so it should take a **bytes** object in its long-term lifecycle."
   ]
  },
  {
   "cell_type": "code",
   "execution_count": 23,
   "metadata": {},
   "outputs": [],
   "source": [
    "def single_byte_xor(encrypted, key):\n",
    "    \"\"\"\n",
    "    Decrypt a message encoded with a single-byte key.\n",
    "    \n",
    "    :param encrypted: the message, a bytes\n",
    "    :param key: the key, 0 <= key < 2 ** 8\n",
    "    :return: the plaintext bytes\n",
    "    \"\"\"\n",
    "    return bytes(c ^ key for c in encrypted)"
   ]
  },
  {
   "cell_type": "markdown",
   "metadata": {},
   "source": [
    "With the `single_byte_xor` function, all we need to do is try our encrypted message against all 255 keys and see which one produces genuine English text.\n",
    "\n",
    "The problem statement includes:\n",
    "\n",
    "> You can do this by hand. But don't: write code to do it for you.\n",
    "\n",
    "> How? Devise some method for \"scoring\" a piece of English plaintext. Character frequency is a good metric. Evaluate each output and choose the one with the best score.\n",
    "\n",
    "My hypothesis was that the return values of `single_byte_xor` with some of the keys would include garbage bytes that, in ASCII, map to junk like \"vertical tab\" or \"delete\". Even though it's not stated in the problem, I'm assuming that all characters in the plaintext are _printable_.\n",
    "\n",
    "#### Another discovery!\n",
    "\n",
    "A _printable_ character, here, is a character `c` such that `c in string.printable`. TIL that `'\\n'.printable() != '\\n' in string.printable` and lots of plaintext has newlines in it."
   ]
  },
  {
   "cell_type": "code",
   "execution_count": 24,
   "metadata": {},
   "outputs": [],
   "source": [
    "import string\n",
    "\n",
    "def is_printable(text):\n",
    "    return all(ch in string.printable for ch in text)\n",
    "\n",
    "\n",
    "class Decryption:\n",
    "    def __init__(self, plaintext, key):\n",
    "        self.plaintext = [chr(c) for c in plaintext]\n",
    "        self.key = key\n",
    "\n",
    "    def is_printable(self):\n",
    "        return all(c in string.printable for c in self.plaintext)\n",
    "\n",
    "    def get_plaintext(self):\n",
    "        return ''.join(self.plaintext)\n",
    "\n",
    "    def __iter__(self):\n",
    "        return iter(self.plaintext)\n",
    "\n",
    "    def __repr__(self):\n",
    "        return \"Decryption(plaintext={!r}, key={})\".format(''.join(self.plaintext), self.key)\n",
    "\n",
    "    @staticmethod\n",
    "    def create(ciphertext, key):\n",
    "        return Decryption(single_byte_xor(ciphertext, key), key)"
   ]
  },
  {
   "cell_type": "raw",
   "metadata": {},
   "source": [
    "We take our given ciphertext, try each key from 1 (inclusive) to 2 ** 8 = 256 (exclusive), and see what we get."
   ]
  },
  {
   "cell_type": "code",
   "execution_count": 25,
   "metadata": {},
   "outputs": [],
   "source": [
    "def try_decrypt_single_byte_xor(encrypted, keys):\n",
    "    \"\"\"\n",
    "    Apply single-byte XOR decryption to `encrypted` for each of the given keys. Return only the printable Decryptions.\n",
    "\n",
    "    :param encrypted: the message, a hex-encoded string\n",
    "    :param keys: an iterable of keys to try\n",
    "    :return: an iterable of printable Decryptions\n",
    "    \"\"\"\n",
    "    decryptions = [Decryption.create(encrypted, key) for key in keys]\n",
    "\n",
    "    # filter out plaintexts with non-printable characters\n",
    "    return list(filter(lambda d: d.is_printable(), decryptions))"
   ]
  },
  {
   "cell_type": "code",
   "execution_count": 26,
   "metadata": {},
   "outputs": [
    {
     "data": {
      "text/plain": [
       "['\\\\pptvqx?R\\\\8l?svtz?~?opjq{?py?}~|pq',\n",
       " 'Q}}y{|u2_Q5a2~{yw2s2b}g|v2}t2psq}|',\n",
       " 'Vzz~|{r5XV2f5y|~p5t5ez`{q5zs5wtvz{',\n",
       " 'Txx|~yp7ZT0d7{~|r7v7gxbys7xq7uvtxy',\n",
       " 'Kggcafo(EK/{(dacm(i(xg}fl(gn(jikgf',\n",
       " 'Jffb`gn)DJ.z)e`bl)h)yf|gm)fo)khjfg',\n",
       " 'Hdd`bel+FH,x+gb`n+j+{d~eo+dm+ijhde',\n",
       " 'Nbbfdcj-@N*~-adfh-l-}bxci-bk-olnbc',\n",
       " 'Maaeg`i.CM)}.bgek.o.~a{`j.ah.loma`',\n",
       " \"Cooking MC's like a pound of bacon\",\n",
       " 'Bnnjhof!LB&r!mhjd!`!qntoe!ng!c`bno',\n",
       " 'Ammikle\"OA%q\"nkig\"c\"rmwlf\"md\"`caml',\n",
       " '@llhjmd#N@$p#ojhf#b#slvmg#le#ab`lm',\n",
       " 'Gkkomjc$IG#w$hmoa$e$tkqj`$kb$fegkj',\n",
       " 'Fjjnlkb%HF\"v%iln`%d%ujpka%jc%gdfjk',\n",
       " 'Eiimoha&KE!u&jomc&g&vishb&i`&dgeih',\n",
       " \"Dhhlni`'JD t'knlb'f'whric'ha'efdhi\",\n",
       " 'iEEACDM\\ngi\\rY\\nFCAO\\nK\\nZE_DN\\nEL\\nHKIED',\n",
       " 'hDD@BEL\\x0bfh\\x0cX\\x0bGB@N\\x0bJ\\x0b[D^EO\\x0bDM\\x0bIJHDE',\n",
       " 'oCCGEBK\\x0cao\\x0b_\\x0c@EGI\\x0cM\\x0c\\\\CYBH\\x0cCJ\\x0cNMOCB',\n",
       " 'nBBFDCJ\\r`n\\n^\\rADFH\\rL\\r]BXCI\\rBK\\rOLNBC']"
      ]
     },
     "execution_count": 26,
     "metadata": {},
     "output_type": "execute_result"
    }
   ],
   "source": [
    "decrypted = try_decrypt_single_byte_xor(\n",
    "    bytes.fromhex('1b37373331363f78151b7f2b783431333d78397828372d363c78373e783a393b3736'), range(1, 2 ** 8))\n",
    "[''.join(d.plaintext) for d in decrypted]"
   ]
  },
  {
   "cell_type": "markdown",
   "metadata": {},
   "source": [
    "Only 21 keys produce something that looks like text, and it's easy to scan the list and discover one with English (mostly) words separated by spaces. But now that we know what the answer is, let's see if the computer can find it with the character frequency metric.\n",
    "\n",
    "Did some Googling and found a table of letter frequencies in English:"
   ]
  },
  {
   "cell_type": "code",
   "execution_count": 27,
   "metadata": {},
   "outputs": [],
   "source": [
    "letter_frequencies = {\n",
    "    'a': 0.0834,\n",
    "    'b': 0.0154,\n",
    "    'c': 0.0273,\n",
    "    'd': 0.0414,\n",
    "    'e': 0.126,\n",
    "    'f': 0.0203,\n",
    "    'g': 0.0192,\n",
    "    'h': 0.0611,\n",
    "    'i': 0.0671,\n",
    "    'j': 0.0023,\n",
    "    'k': 0.0086,\n",
    "    'l': 0.0424,\n",
    "    'm': 0.0253,\n",
    "    'n': 0.068,\n",
    "    'o': 0.077,\n",
    "    'p': 0.0166,\n",
    "    'q': 0.0009,\n",
    "    'r': 0.0568,\n",
    "    's': 0.0611,\n",
    "    't': 0.0937,\n",
    "    'u': 0.0285,\n",
    "    'v': 0.0106,\n",
    "    'w': 0.0234,\n",
    "    'x': 0.002,\n",
    "    'y': 0.0204,\n",
    "    'z': 0.0006\n",
    "}"
   ]
  },
  {
   "cell_type": "markdown",
   "metadata": {},
   "source": [
    "This might need some refinement because I'm not a statistician, but it seemed reasonable to me to verify the (likelihood of) correctness of our English plaintext by summing, for each letter, the difference between the expected number of times the letter should appear in our plaintext and the actual number of times the letter does appear. There might be subtleties to this that I'm missing, but it worked for this challenge and the next one."
   ]
  },
  {
   "cell_type": "code",
   "execution_count": 32,
   "metadata": {},
   "outputs": [
    {
     "data": {
      "text/plain": [
       "\"Cooking MC's like a pound of bacon\""
      ]
     },
     "execution_count": 32,
     "metadata": {},
     "output_type": "execute_result"
    }
   ],
   "source": [
    "from collections import Counter, namedtuple\n",
    "\n",
    "Score = namedtuple('Score', ['score', 'decryption'])\n",
    "\n",
    "nil_score = Score(float('inf'), decryption=None)\n",
    "\n",
    "def score(text):\n",
    "    \"\"\"\n",
    "    \"Scores\" the likelihood that a piece of text is in English.\n",
    "    \n",
    "    :param text: the text in question, as a str\n",
    "    :return: a value indicating how close `text` is to expected English text, in terms of letter frequency. \n",
    "        The lower the value, the more likely the text is English.\n",
    "    \"\"\"\n",
    "    # ignore non-letter characters\n",
    "    counter = Counter(c.lower() for c in text if c.isalpha())\n",
    "    letter_count = sum(counter.values())\n",
    "    \n",
    "    if not letter_count:\n",
    "        return float('inf')\n",
    "    \n",
    "    total_variance = 0.0\n",
    "    for letter, frequency in letter_frequencies.items():\n",
    "        total_variance += abs(counter[letter] / letter_count - frequency)\n",
    "        \n",
    "    return total_variance\n",
    "\n",
    "def decrypt_single_byte_xor(encrypted):\n",
    "    \"\"\"\n",
    "    You are given a hex-encoded string that has been single-byte xor'd against an ASCII character. Decrypt the string.\n",
    "\n",
    "    Assume that all characters in the string are in string.printable.\n",
    "\n",
    "    :param encrypted: the message, as bytes\n",
    "    :return: the best Score when the string is decrypted against every ASCII character.\n",
    "    \"\"\"\n",
    "    decryptions = try_decrypt_single_byte_xor(encrypted, range(1, 2 ** 8))\n",
    "    if not decryptions:\n",
    "        return nil_score\n",
    "\n",
    "    return min(map(lambda p: Score(score(p), p), decryptions))\n",
    "\n",
    "msg = bytes.fromhex('1b37373331363f78151b7f2b783431333d78397828372d363c78373e783a393b3736')\n",
    "res = decrypt_single_byte_xor(msg)\n",
    "''.join(res.decryption.plaintext)"
   ]
  },
  {
   "cell_type": "markdown",
   "metadata": {},
   "source": [
    "### Challenge 4\n",
    "\n",
    "I don't see a way to do this without decrypting each line with every possible key until we find some plaintext that looks like English."
   ]
  },
  {
   "cell_type": "code",
   "execution_count": 37,
   "metadata": {},
   "outputs": [
    {
     "data": {
      "text/plain": [
       "170"
      ]
     },
     "execution_count": 37,
     "metadata": {},
     "output_type": "execute_result"
    }
   ],
   "source": [
    "import requests\n",
    "\n",
    "req = requests.get('https://cryptopals.com/static/challenge-data/4.txt')\n",
    "res = min((decrypt_single_byte_xor(bytes.fromhex(line.strip())), idx) \n",
    "          for idx, line in enumerate(request.text.splitlines()))\n",
    "res[1]"
   ]
  },
  {
   "cell_type": "markdown",
   "metadata": {},
   "source": [
    "### Challenge 5\n",
    "\n",
    "Repeating-key XOR is the generalized case of single-byte XOR.\n",
    "\n",
    "Given a `key`, each byte of the plaintext at index i is XOR'd with `key[i % len(key)]` and the results converted to two-character hexadecimal numbers, which are concatenated together."
   ]
  },
  {
   "cell_type": "code",
   "execution_count": 22,
   "metadata": {},
   "outputs": [],
   "source": [
    "import itertools\n",
    "from functools import singledispatch\n",
    "\n",
    "@singledispatch\n",
    "def repeating_key_xor(text, key):\n",
    "    \"\"\"\n",
    "    :param text: the text, either plaintext or ciphertext, as bytes\n",
    "    :param key: the key, as a str\n",
    "    :return: a hex-encoded string\n",
    "    \"\"\"\n",
    "    encrypted = [p ^ k for p, k in zip(text, itertools.cycle([ord(c) for c in key]))]\n",
    "    return bytes(encrypted).hex()\n",
    "\n",
    "\n",
    "@repeating_key_xor.register(str)\n",
    "def _(text, key):\n",
    "    \"\"\"\n",
    "    :param text: the text, either plaintext or ciphertext, as a str\n",
    "    :param key: the key, as a str\n",
    "    :return: a hex-encoded string\n",
    "    \"\"\"\n",
    "    encrypted = [p ^ k for p, k in zip((ord(c) for c in text), itertools.cycle([ord(c) for c in key]))]\n",
    "    return bytes(encrypted).hex()"
   ]
  },
  {
   "cell_type": "code",
   "execution_count": 23,
   "metadata": {},
   "outputs": [
    {
     "data": {
      "text/plain": [
       "'0b3637272a2b2e63622c2e69692a23693a2a3c6324202d623d63343c2a26226324272765272a282b2f20152d0c69242a69203728393c69342d2c2d6500632d2c22376922652a3a282b2229'"
      ]
     },
     "execution_count": 23,
     "metadata": {},
     "output_type": "execute_result"
    }
   ],
   "source": [
    "repeating_key_xor(\"Burning 'em, if you ain't quick and nimble\\\\nI go crazy when I hear a cymbal\", \"ICE\")"
   ]
  },
  {
   "cell_type": "markdown",
   "metadata": {},
   "source": [
    "### Challenge 6\n",
    "\n"
   ]
  },
  {
   "cell_type": "code",
   "execution_count": 24,
   "metadata": {},
   "outputs": [],
   "source": [
    "def bitwise_hamming_distance(m, n):\n",
    "    if len(m) != len(n):\n",
    "        raise ValueError(\"m and n should be the same length in bytes\")\n",
    "\n",
    "    def count_ones(b):\n",
    "        count = 0\n",
    "        while b > 0:\n",
    "            b = b & (b - 1)\n",
    "            count += 1\n",
    "        return count\n",
    "\n",
    "    return sum(count_ones(i) for i in (x ^ y for x, y in zip(m, n)))"
   ]
  },
  {
   "cell_type": "code",
   "execution_count": 25,
   "metadata": {},
   "outputs": [],
   "source": [
    "def grouper(iterable, n, fillvalue=None):\n",
    "    args = [iter(iterable)] * n\n",
    "    return itertools.zip_longest(*args, fillvalue=fillvalue)"
   ]
  },
  {
   "cell_type": "code",
   "execution_count": 26,
   "metadata": {},
   "outputs": [],
   "source": [
    "KeySize = namedtuple('KeySize', ['normalized_hamming_distance', 'key_size'])\n",
    "\n",
    "import heapq\n",
    "\n",
    "def break_repeating_key_xor(encrypted):\n",
    "    def hamming_distance(keysize):\n",
    "        return bitwise_hamming_distance(encrypted[:keysize], encrypted[keysize:2 * keysize])\n",
    "\n",
    "    heap = [KeySize(hamming_distance(n) / n, n) for n in range(2, 40)]\n",
    "    heapq.heapify(heap)\n",
    "\n",
    "    def fail_fast_decrypt(columns):\n",
    "        res = []\n",
    "        for column in columns:\n",
    "            dec = decrypt_single_byte_xor(column)\n",
    "            if dec is nil_score:\n",
    "                return None\n",
    "            res.append(dec)\n",
    "        return res\n",
    "\n",
    "    while True:\n",
    "        if not heap:\n",
    "            raise ValueError(\"No key length worked!\")\n",
    "\n",
    "        chunks = list(grouper(encrypted, heapq.heappop(heap).key_size, fillvalue=0))\n",
    "        columns = list(itertools.zip_longest(*chunks))\n",
    "\n",
    "        individual_keys = fail_fast_decrypt(columns)\n",
    "        if individual_keys:\n",
    "            yield ''.join([chr(score.decryption.key) for score in individual_keys])\n",
    "            \n",
    "def decrypt_repeating_key_xor(encrypted):\n",
    "    \"\"\"\n",
    "    Set 1, challenge 6.\n",
    "\n",
    "    :param encrypted:\n",
    "    :return:\n",
    "    \"\"\"\n",
    "    while True:\n",
    "        keys = break_repeating_key_xor(encrypted)\n",
    "        return bytes.fromhex(repeating_key_xor(encrypted, next(keys)))"
   ]
  },
  {
   "cell_type": "code",
   "execution_count": 21,
   "metadata": {},
   "outputs": [
    {
     "ename": "TypeError",
     "evalue": "fromhex() argument must be str, not tuple",
     "output_type": "error",
     "traceback": [
      "\u001b[0;31m---------------------------------------------------------------------------\u001b[0m",
      "\u001b[0;31mTypeError\u001b[0m                                 Traceback (most recent call last)",
      "\u001b[0;32m<ipython-input-21-a6d1122cbde1>\u001b[0m in \u001b[0;36m<module>\u001b[0;34m\u001b[0m\n\u001b[1;32m      1\u001b[0m \u001b[0;32mwith\u001b[0m \u001b[0mrequests\u001b[0m\u001b[0;34m.\u001b[0m\u001b[0mget\u001b[0m\u001b[0;34m(\u001b[0m\u001b[0;34m'https://cryptopals.com/static/challenge-data/6.txt'\u001b[0m\u001b[0;34m)\u001b[0m \u001b[0;32mas\u001b[0m \u001b[0mrequest\u001b[0m\u001b[0;34m:\u001b[0m\u001b[0;34m\u001b[0m\u001b[0;34m\u001b[0m\u001b[0m\n\u001b[1;32m      2\u001b[0m     \u001b[0munencoded\u001b[0m \u001b[0;34m=\u001b[0m \u001b[0mbase64\u001b[0m\u001b[0;34m.\u001b[0m\u001b[0mb64decode\u001b[0m\u001b[0;34m(\u001b[0m\u001b[0mrequest\u001b[0m\u001b[0;34m.\u001b[0m\u001b[0mcontent\u001b[0m\u001b[0;34m)\u001b[0m\u001b[0;34m\u001b[0m\u001b[0;34m\u001b[0m\u001b[0m\n\u001b[0;32m----> 3\u001b[0;31m     \u001b[0mprint\u001b[0m\u001b[0;34m(\u001b[0m\u001b[0mdecrypt_repeating_key_xor\u001b[0m\u001b[0;34m(\u001b[0m\u001b[0munencoded\u001b[0m\u001b[0;34m)\u001b[0m\u001b[0;34m)\u001b[0m\u001b[0;34m\u001b[0m\u001b[0;34m\u001b[0m\u001b[0m\n\u001b[0m",
      "\u001b[0;32m<ipython-input-20-328369990da9>\u001b[0m in \u001b[0;36mdecrypt_repeating_key_xor\u001b[0;34m(encrypted)\u001b[0m\n\u001b[1;32m     39\u001b[0m     \u001b[0;32mwhile\u001b[0m \u001b[0;32mTrue\u001b[0m\u001b[0;34m:\u001b[0m\u001b[0;34m\u001b[0m\u001b[0;34m\u001b[0m\u001b[0m\n\u001b[1;32m     40\u001b[0m         \u001b[0mkeys\u001b[0m \u001b[0;34m=\u001b[0m \u001b[0mbreak_repeating_key_xor\u001b[0m\u001b[0;34m(\u001b[0m\u001b[0mencrypted\u001b[0m\u001b[0;34m)\u001b[0m\u001b[0;34m\u001b[0m\u001b[0;34m\u001b[0m\u001b[0m\n\u001b[0;32m---> 41\u001b[0;31m         \u001b[0;32mreturn\u001b[0m \u001b[0mbytes\u001b[0m\u001b[0;34m.\u001b[0m\u001b[0mfromhex\u001b[0m\u001b[0;34m(\u001b[0m\u001b[0mrepeating_key_xor\u001b[0m\u001b[0;34m(\u001b[0m\u001b[0mencrypted\u001b[0m\u001b[0;34m,\u001b[0m \u001b[0mnext\u001b[0m\u001b[0;34m(\u001b[0m\u001b[0mkeys\u001b[0m\u001b[0;34m)\u001b[0m\u001b[0;34m)\u001b[0m\u001b[0;34m)\u001b[0m\u001b[0;34m\u001b[0m\u001b[0;34m\u001b[0m\u001b[0m\n\u001b[0m",
      "\u001b[0;32m<ipython-input-20-328369990da9>\u001b[0m in \u001b[0;36mbreak_repeating_key_xor\u001b[0;34m(encrypted)\u001b[0m\n\u001b[1;32m     26\u001b[0m         \u001b[0mcolumns\u001b[0m \u001b[0;34m=\u001b[0m \u001b[0mlist\u001b[0m\u001b[0;34m(\u001b[0m\u001b[0mitertools\u001b[0m\u001b[0;34m.\u001b[0m\u001b[0mzip_longest\u001b[0m\u001b[0;34m(\u001b[0m\u001b[0;34m*\u001b[0m\u001b[0mchunks\u001b[0m\u001b[0;34m)\u001b[0m\u001b[0;34m)\u001b[0m\u001b[0;34m\u001b[0m\u001b[0;34m\u001b[0m\u001b[0m\n\u001b[1;32m     27\u001b[0m \u001b[0;34m\u001b[0m\u001b[0m\n\u001b[0;32m---> 28\u001b[0;31m         \u001b[0mindividual_keys\u001b[0m \u001b[0;34m=\u001b[0m \u001b[0mfail_fast_decrypt\u001b[0m\u001b[0;34m(\u001b[0m\u001b[0mcolumns\u001b[0m\u001b[0;34m)\u001b[0m\u001b[0;34m\u001b[0m\u001b[0;34m\u001b[0m\u001b[0m\n\u001b[0m\u001b[1;32m     29\u001b[0m         \u001b[0;32mif\u001b[0m \u001b[0mindividual_keys\u001b[0m\u001b[0;34m:\u001b[0m\u001b[0;34m\u001b[0m\u001b[0;34m\u001b[0m\u001b[0m\n\u001b[1;32m     30\u001b[0m             \u001b[0;32myield\u001b[0m \u001b[0;34m''\u001b[0m\u001b[0;34m.\u001b[0m\u001b[0mjoin\u001b[0m\u001b[0;34m(\u001b[0m\u001b[0;34m[\u001b[0m\u001b[0mchr\u001b[0m\u001b[0;34m(\u001b[0m\u001b[0mscore\u001b[0m\u001b[0;34m.\u001b[0m\u001b[0mdecryption\u001b[0m\u001b[0;34m.\u001b[0m\u001b[0mkey\u001b[0m\u001b[0;34m)\u001b[0m \u001b[0;32mfor\u001b[0m \u001b[0mscore\u001b[0m \u001b[0;32min\u001b[0m \u001b[0mindividual_keys\u001b[0m\u001b[0;34m]\u001b[0m\u001b[0;34m)\u001b[0m\u001b[0;34m\u001b[0m\u001b[0;34m\u001b[0m\u001b[0m\n",
      "\u001b[0;32m<ipython-input-20-328369990da9>\u001b[0m in \u001b[0;36mfail_fast_decrypt\u001b[0;34m(columns)\u001b[0m\n\u001b[1;32m     13\u001b[0m         \u001b[0mres\u001b[0m \u001b[0;34m=\u001b[0m \u001b[0;34m[\u001b[0m\u001b[0;34m]\u001b[0m\u001b[0;34m\u001b[0m\u001b[0;34m\u001b[0m\u001b[0m\n\u001b[1;32m     14\u001b[0m         \u001b[0;32mfor\u001b[0m \u001b[0mcolumn\u001b[0m \u001b[0;32min\u001b[0m \u001b[0mcolumns\u001b[0m\u001b[0;34m:\u001b[0m\u001b[0;34m\u001b[0m\u001b[0;34m\u001b[0m\u001b[0m\n\u001b[0;32m---> 15\u001b[0;31m             \u001b[0mdec\u001b[0m \u001b[0;34m=\u001b[0m \u001b[0mdecrypt_single_byte_xor\u001b[0m\u001b[0;34m(\u001b[0m\u001b[0mcolumn\u001b[0m\u001b[0;34m)\u001b[0m\u001b[0;34m\u001b[0m\u001b[0;34m\u001b[0m\u001b[0m\n\u001b[0m\u001b[1;32m     16\u001b[0m             \u001b[0;32mif\u001b[0m \u001b[0mdec\u001b[0m \u001b[0;32mis\u001b[0m \u001b[0mnil_score\u001b[0m\u001b[0;34m:\u001b[0m\u001b[0;34m\u001b[0m\u001b[0;34m\u001b[0m\u001b[0m\n\u001b[1;32m     17\u001b[0m                 \u001b[0;32mreturn\u001b[0m \u001b[0;32mNone\u001b[0m\u001b[0;34m\u001b[0m\u001b[0;34m\u001b[0m\u001b[0m\n",
      "\u001b[0;32m<ipython-input-10-6dca981c2793>\u001b[0m in \u001b[0;36mdecrypt_single_byte_xor\u001b[0;34m(encrypted)\u001b[0m\n\u001b[1;32m      1\u001b[0m \u001b[0;32mdef\u001b[0m \u001b[0mdecrypt_single_byte_xor\u001b[0m\u001b[0;34m(\u001b[0m\u001b[0mencrypted\u001b[0m\u001b[0;34m)\u001b[0m\u001b[0;34m:\u001b[0m\u001b[0;34m\u001b[0m\u001b[0;34m\u001b[0m\u001b[0m\n\u001b[0;32m----> 2\u001b[0;31m     \u001b[0mpossible_plaintexts\u001b[0m \u001b[0;34m=\u001b[0m \u001b[0;34m[\u001b[0m\u001b[0msingle_byte_xor\u001b[0m\u001b[0;34m(\u001b[0m\u001b[0mencrypted\u001b[0m\u001b[0;34m,\u001b[0m \u001b[0mkey\u001b[0m\u001b[0;34m)\u001b[0m \u001b[0;32mfor\u001b[0m \u001b[0mkey\u001b[0m \u001b[0;32min\u001b[0m \u001b[0mrange\u001b[0m\u001b[0;34m(\u001b[0m\u001b[0;36m1\u001b[0m\u001b[0;34m,\u001b[0m \u001b[0;36m2\u001b[0m \u001b[0;34m**\u001b[0m \u001b[0;36m8\u001b[0m\u001b[0;34m)\u001b[0m\u001b[0;34m]\u001b[0m\u001b[0;34m\u001b[0m\u001b[0;34m\u001b[0m\u001b[0m\n\u001b[0m\u001b[1;32m      3\u001b[0m     \u001b[0mpossible_plaintexts\u001b[0m \u001b[0;34m=\u001b[0m \u001b[0;34m[\u001b[0m\u001b[0mlist\u001b[0m\u001b[0;34m(\u001b[0m\u001b[0mmap\u001b[0m\u001b[0;34m(\u001b[0m\u001b[0;32mlambda\u001b[0m \u001b[0mc\u001b[0m\u001b[0;34m:\u001b[0m \u001b[0mchr\u001b[0m\u001b[0;34m(\u001b[0m\u001b[0mc\u001b[0m\u001b[0;34m)\u001b[0m\u001b[0;34m,\u001b[0m \u001b[0mp\u001b[0m\u001b[0;34m)\u001b[0m\u001b[0;34m)\u001b[0m \u001b[0;32mfor\u001b[0m \u001b[0mp\u001b[0m \u001b[0;32min\u001b[0m \u001b[0mpossible_plaintexts\u001b[0m\u001b[0;34m]\u001b[0m\u001b[0;34m\u001b[0m\u001b[0;34m\u001b[0m\u001b[0m\n\u001b[1;32m      4\u001b[0m     \u001b[0mpossible_plaintexts\u001b[0m \u001b[0;34m=\u001b[0m \u001b[0mlist\u001b[0m\u001b[0;34m(\u001b[0m\u001b[0mfilter\u001b[0m\u001b[0;34m(\u001b[0m\u001b[0;32mlambda\u001b[0m \u001b[0mt\u001b[0m\u001b[0;34m:\u001b[0m \u001b[0mis_printable\u001b[0m\u001b[0;34m(\u001b[0m\u001b[0mt\u001b[0m\u001b[0;34m)\u001b[0m\u001b[0;34m,\u001b[0m \u001b[0mpossible_plaintexts\u001b[0m\u001b[0;34m)\u001b[0m\u001b[0;34m)\u001b[0m\u001b[0;34m\u001b[0m\u001b[0;34m\u001b[0m\u001b[0m\n\u001b[1;32m      5\u001b[0m \u001b[0;34m\u001b[0m\u001b[0m\n",
      "\u001b[0;32m<ipython-input-10-6dca981c2793>\u001b[0m in \u001b[0;36m<listcomp>\u001b[0;34m(.0)\u001b[0m\n\u001b[1;32m      1\u001b[0m \u001b[0;32mdef\u001b[0m \u001b[0mdecrypt_single_byte_xor\u001b[0m\u001b[0;34m(\u001b[0m\u001b[0mencrypted\u001b[0m\u001b[0;34m)\u001b[0m\u001b[0;34m:\u001b[0m\u001b[0;34m\u001b[0m\u001b[0;34m\u001b[0m\u001b[0m\n\u001b[0;32m----> 2\u001b[0;31m     \u001b[0mpossible_plaintexts\u001b[0m \u001b[0;34m=\u001b[0m \u001b[0;34m[\u001b[0m\u001b[0msingle_byte_xor\u001b[0m\u001b[0;34m(\u001b[0m\u001b[0mencrypted\u001b[0m\u001b[0;34m,\u001b[0m \u001b[0mkey\u001b[0m\u001b[0;34m)\u001b[0m \u001b[0;32mfor\u001b[0m \u001b[0mkey\u001b[0m \u001b[0;32min\u001b[0m \u001b[0mrange\u001b[0m\u001b[0;34m(\u001b[0m\u001b[0;36m1\u001b[0m\u001b[0;34m,\u001b[0m \u001b[0;36m2\u001b[0m \u001b[0;34m**\u001b[0m \u001b[0;36m8\u001b[0m\u001b[0;34m)\u001b[0m\u001b[0;34m]\u001b[0m\u001b[0;34m\u001b[0m\u001b[0;34m\u001b[0m\u001b[0m\n\u001b[0m\u001b[1;32m      3\u001b[0m     \u001b[0mpossible_plaintexts\u001b[0m \u001b[0;34m=\u001b[0m \u001b[0;34m[\u001b[0m\u001b[0mlist\u001b[0m\u001b[0;34m(\u001b[0m\u001b[0mmap\u001b[0m\u001b[0;34m(\u001b[0m\u001b[0;32mlambda\u001b[0m \u001b[0mc\u001b[0m\u001b[0;34m:\u001b[0m \u001b[0mchr\u001b[0m\u001b[0;34m(\u001b[0m\u001b[0mc\u001b[0m\u001b[0;34m)\u001b[0m\u001b[0;34m,\u001b[0m \u001b[0mp\u001b[0m\u001b[0;34m)\u001b[0m\u001b[0;34m)\u001b[0m \u001b[0;32mfor\u001b[0m \u001b[0mp\u001b[0m \u001b[0;32min\u001b[0m \u001b[0mpossible_plaintexts\u001b[0m\u001b[0;34m]\u001b[0m\u001b[0;34m\u001b[0m\u001b[0;34m\u001b[0m\u001b[0m\n\u001b[1;32m      4\u001b[0m     \u001b[0mpossible_plaintexts\u001b[0m \u001b[0;34m=\u001b[0m \u001b[0mlist\u001b[0m\u001b[0;34m(\u001b[0m\u001b[0mfilter\u001b[0m\u001b[0;34m(\u001b[0m\u001b[0;32mlambda\u001b[0m \u001b[0mt\u001b[0m\u001b[0;34m:\u001b[0m \u001b[0mis_printable\u001b[0m\u001b[0;34m(\u001b[0m\u001b[0mt\u001b[0m\u001b[0;34m)\u001b[0m\u001b[0;34m,\u001b[0m \u001b[0mpossible_plaintexts\u001b[0m\u001b[0;34m)\u001b[0m\u001b[0;34m)\u001b[0m\u001b[0;34m\u001b[0m\u001b[0;34m\u001b[0m\u001b[0m\n\u001b[1;32m      5\u001b[0m \u001b[0;34m\u001b[0m\u001b[0m\n",
      "\u001b[0;32m<ipython-input-15-aaf4017f07d0>\u001b[0m in \u001b[0;36msingle_byte_xor\u001b[0;34m(encrypted, key)\u001b[0m\n\u001b[1;32m      7\u001b[0m     \u001b[0;34m:\u001b[0m\u001b[0;32mreturn\u001b[0m\u001b[0;34m:\u001b[0m \u001b[0mthe\u001b[0m \u001b[0mplaintext\u001b[0m \u001b[0mbytes\u001b[0m\u001b[0;34m\u001b[0m\u001b[0;34m\u001b[0m\u001b[0m\n\u001b[1;32m      8\u001b[0m     \"\"\"\n\u001b[0;32m----> 9\u001b[0;31m     \u001b[0;32mreturn\u001b[0m \u001b[0mbytes\u001b[0m\u001b[0;34m(\u001b[0m\u001b[0mc\u001b[0m \u001b[0;34m^\u001b[0m \u001b[0mkey\u001b[0m \u001b[0;32mfor\u001b[0m \u001b[0mc\u001b[0m \u001b[0;32min\u001b[0m \u001b[0mbytes\u001b[0m\u001b[0;34m.\u001b[0m\u001b[0mfromhex\u001b[0m\u001b[0;34m(\u001b[0m\u001b[0mencrypted\u001b[0m\u001b[0;34m)\u001b[0m\u001b[0;34m)\u001b[0m\u001b[0;34m\u001b[0m\u001b[0;34m\u001b[0m\u001b[0m\n\u001b[0m",
      "\u001b[0;31mTypeError\u001b[0m: fromhex() argument must be str, not tuple"
     ]
    }
   ],
   "source": [
    "with requests.get('https://cryptopals.com/static/challenge-data/6.txt') as request:\n",
    "    unencoded = base64.b64decode(request.content)\n",
    "    print(decrypt_repeating_key_xor(unencoded))"
   ]
  },
  {
   "cell_type": "code",
   "execution_count": 27,
   "metadata": {},
   "outputs": [],
   "source": [
    "from cryptography.hazmat.primitives.ciphers import Cipher, algorithms, modes\n",
    "from cryptography.hazmat.backends import default_backend\n",
    "\n",
    "def decrypt_aes_with_ecb(ciphertext, key):\n",
    "    cipher = Cipher(algorithms.AES(key), modes.ECB(), default_backend())\n",
    "    decryptor = cipher.decryptor()\n",
    "    return decryptor.update(ciphertext) + decryptor.finalize()\n",
    "\n",
    "def encrypt_aes_with_ecb(plaintext, key):\n",
    "    cipher = Cipher(algorithms.AES(key), modes.ECB(), default_backend())\n",
    "    encryptor = cipher.encryptor()\n",
    "    return encryptor.update(plaintext) + encryptor.finalize()"
   ]
  },
  {
   "cell_type": "code",
   "execution_count": 33,
   "metadata": {},
   "outputs": [],
   "source": [
    "abc = requests.get('https://cryptopals.com/static/challenge-data/7.txt').text"
   ]
  },
  {
   "cell_type": "code",
   "execution_count": 40,
   "metadata": {},
   "outputs": [
    {
     "data": {
      "text/plain": [
       "<cryptography.hazmat.primitives.ciphers.base.Cipher at 0x104147580>"
      ]
     },
     "execution_count": 40,
     "metadata": {},
     "output_type": "execute_result"
    }
   ],
   "source": [
    "cipher = Cipher(algorithms.AES(b'YELLOW SUBMARINE'), modes.ECB(), default_backend())\n",
    "cipher"
   ]
  },
  {
   "cell_type": "code",
   "execution_count": 41,
   "metadata": {},
   "outputs": [
    {
     "data": {
      "text/plain": [
       "<cryptography.hazmat.primitives.ciphers.base._CipherContext at 0x104147bb0>"
      ]
     },
     "execution_count": 41,
     "metadata": {},
     "output_type": "execute_result"
    }
   ],
   "source": [
    "decryptor = cipher.decryptor()\n",
    "decryptor"
   ]
  },
  {
   "cell_type": "code",
   "execution_count": 42,
   "metadata": {},
   "outputs": [
    {
     "ename": "TypeError",
     "evalue": "from_buffer() cannot return the address of a unicode object",
     "output_type": "error",
     "traceback": [
      "\u001b[0;31m---------------------------------------------------------------------------\u001b[0m",
      "\u001b[0;31mTypeError\u001b[0m                                 Traceback (most recent call last)",
      "\u001b[0;32m<ipython-input-42-2284631d048b>\u001b[0m in \u001b[0;36m<module>\u001b[0;34m\u001b[0m\n\u001b[0;32m----> 1\u001b[0;31m \u001b[0mdecryptor\u001b[0m\u001b[0;34m.\u001b[0m\u001b[0mupdate\u001b[0m\u001b[0;34m(\u001b[0m\u001b[0mabc\u001b[0m\u001b[0;34m)\u001b[0m\u001b[0;34m\u001b[0m\u001b[0;34m\u001b[0m\u001b[0m\n\u001b[0m",
      "\u001b[0;32m~/.pyenv/versions/3.8.2/lib/python3.8/site-packages/cryptography/hazmat/primitives/ciphers/base.py\u001b[0m in \u001b[0;36mupdate\u001b[0;34m(self, data)\u001b[0m\n\u001b[1;32m    147\u001b[0m         \u001b[0;32mif\u001b[0m \u001b[0mself\u001b[0m\u001b[0;34m.\u001b[0m\u001b[0m_ctx\u001b[0m \u001b[0;32mis\u001b[0m \u001b[0;32mNone\u001b[0m\u001b[0;34m:\u001b[0m\u001b[0;34m\u001b[0m\u001b[0;34m\u001b[0m\u001b[0m\n\u001b[1;32m    148\u001b[0m             \u001b[0;32mraise\u001b[0m \u001b[0mAlreadyFinalized\u001b[0m\u001b[0;34m(\u001b[0m\u001b[0;34m\"Context was already finalized.\"\u001b[0m\u001b[0;34m)\u001b[0m\u001b[0;34m\u001b[0m\u001b[0;34m\u001b[0m\u001b[0m\n\u001b[0;32m--> 149\u001b[0;31m         \u001b[0;32mreturn\u001b[0m \u001b[0mself\u001b[0m\u001b[0;34m.\u001b[0m\u001b[0m_ctx\u001b[0m\u001b[0;34m.\u001b[0m\u001b[0mupdate\u001b[0m\u001b[0;34m(\u001b[0m\u001b[0mdata\u001b[0m\u001b[0;34m)\u001b[0m\u001b[0;34m\u001b[0m\u001b[0;34m\u001b[0m\u001b[0m\n\u001b[0m\u001b[1;32m    150\u001b[0m \u001b[0;34m\u001b[0m\u001b[0m\n\u001b[1;32m    151\u001b[0m     \u001b[0;32mdef\u001b[0m \u001b[0mupdate_into\u001b[0m\u001b[0;34m(\u001b[0m\u001b[0mself\u001b[0m\u001b[0;34m,\u001b[0m \u001b[0mdata\u001b[0m\u001b[0;34m,\u001b[0m \u001b[0mbuf\u001b[0m\u001b[0;34m)\u001b[0m\u001b[0;34m:\u001b[0m\u001b[0;34m\u001b[0m\u001b[0;34m\u001b[0m\u001b[0m\n",
      "\u001b[0;32m~/.pyenv/versions/3.8.2/lib/python3.8/site-packages/cryptography/hazmat/backends/openssl/ciphers.py\u001b[0m in \u001b[0;36mupdate\u001b[0;34m(self, data)\u001b[0m\n\u001b[1;32m    122\u001b[0m     \u001b[0;32mdef\u001b[0m \u001b[0mupdate\u001b[0m\u001b[0;34m(\u001b[0m\u001b[0mself\u001b[0m\u001b[0;34m,\u001b[0m \u001b[0mdata\u001b[0m\u001b[0;34m)\u001b[0m\u001b[0;34m:\u001b[0m\u001b[0;34m\u001b[0m\u001b[0;34m\u001b[0m\u001b[0m\n\u001b[1;32m    123\u001b[0m         \u001b[0mbuf\u001b[0m \u001b[0;34m=\u001b[0m \u001b[0mbytearray\u001b[0m\u001b[0;34m(\u001b[0m\u001b[0mlen\u001b[0m\u001b[0;34m(\u001b[0m\u001b[0mdata\u001b[0m\u001b[0;34m)\u001b[0m \u001b[0;34m+\u001b[0m \u001b[0mself\u001b[0m\u001b[0;34m.\u001b[0m\u001b[0m_block_size_bytes\u001b[0m \u001b[0;34m-\u001b[0m \u001b[0;36m1\u001b[0m\u001b[0;34m)\u001b[0m\u001b[0;34m\u001b[0m\u001b[0;34m\u001b[0m\u001b[0m\n\u001b[0;32m--> 124\u001b[0;31m         \u001b[0mn\u001b[0m \u001b[0;34m=\u001b[0m \u001b[0mself\u001b[0m\u001b[0;34m.\u001b[0m\u001b[0mupdate_into\u001b[0m\u001b[0;34m(\u001b[0m\u001b[0mdata\u001b[0m\u001b[0;34m,\u001b[0m \u001b[0mbuf\u001b[0m\u001b[0;34m)\u001b[0m\u001b[0;34m\u001b[0m\u001b[0;34m\u001b[0m\u001b[0m\n\u001b[0m\u001b[1;32m    125\u001b[0m         \u001b[0;32mreturn\u001b[0m \u001b[0mbytes\u001b[0m\u001b[0;34m(\u001b[0m\u001b[0mbuf\u001b[0m\u001b[0;34m[\u001b[0m\u001b[0;34m:\u001b[0m\u001b[0mn\u001b[0m\u001b[0;34m]\u001b[0m\u001b[0;34m)\u001b[0m\u001b[0;34m\u001b[0m\u001b[0;34m\u001b[0m\u001b[0m\n\u001b[1;32m    126\u001b[0m \u001b[0;34m\u001b[0m\u001b[0m\n",
      "\u001b[0;32m~/.pyenv/versions/3.8.2/lib/python3.8/site-packages/cryptography/hazmat/backends/openssl/ciphers.py\u001b[0m in \u001b[0;36mupdate_into\u001b[0;34m(self, data, buf)\u001b[0m\n\u001b[1;32m    138\u001b[0m         res = self._backend._lib.EVP_CipherUpdate(\n\u001b[1;32m    139\u001b[0m             \u001b[0mself\u001b[0m\u001b[0;34m.\u001b[0m\u001b[0m_ctx\u001b[0m\u001b[0;34m,\u001b[0m \u001b[0mbuf\u001b[0m\u001b[0;34m,\u001b[0m \u001b[0moutlen\u001b[0m\u001b[0;34m,\u001b[0m\u001b[0;34m\u001b[0m\u001b[0;34m\u001b[0m\u001b[0m\n\u001b[0;32m--> 140\u001b[0;31m             \u001b[0mself\u001b[0m\u001b[0;34m.\u001b[0m\u001b[0m_backend\u001b[0m\u001b[0;34m.\u001b[0m\u001b[0m_ffi\u001b[0m\u001b[0;34m.\u001b[0m\u001b[0mfrom_buffer\u001b[0m\u001b[0;34m(\u001b[0m\u001b[0mdata\u001b[0m\u001b[0;34m)\u001b[0m\u001b[0;34m,\u001b[0m \u001b[0mlen\u001b[0m\u001b[0;34m(\u001b[0m\u001b[0mdata\u001b[0m\u001b[0;34m)\u001b[0m\u001b[0;34m\u001b[0m\u001b[0;34m\u001b[0m\u001b[0m\n\u001b[0m\u001b[1;32m    141\u001b[0m         )\n\u001b[1;32m    142\u001b[0m         \u001b[0mself\u001b[0m\u001b[0;34m.\u001b[0m\u001b[0m_backend\u001b[0m\u001b[0;34m.\u001b[0m\u001b[0mopenssl_assert\u001b[0m\u001b[0;34m(\u001b[0m\u001b[0mres\u001b[0m \u001b[0;34m!=\u001b[0m \u001b[0;36m0\u001b[0m\u001b[0;34m)\u001b[0m\u001b[0;34m\u001b[0m\u001b[0;34m\u001b[0m\u001b[0m\n",
      "\u001b[0;31mTypeError\u001b[0m: from_buffer() cannot return the address of a unicode object"
     ]
    }
   ],
   "source": [
    "decryptor.update(abc)"
   ]
  },
  {
   "cell_type": "code",
   "execution_count": null,
   "metadata": {},
   "outputs": [],
   "source": []
  }
 ],
 "metadata": {
  "kernelspec": {
   "display_name": "Python 3",
   "language": "python",
   "name": "python3"
  },
  "language_info": {
   "codemirror_mode": {
    "name": "ipython",
    "version": 3
   },
   "file_extension": ".py",
   "mimetype": "text/x-python",
   "name": "python",
   "nbconvert_exporter": "python",
   "pygments_lexer": "ipython3",
   "version": "3.8.2"
  }
 },
 "nbformat": 4,
 "nbformat_minor": 4
}
