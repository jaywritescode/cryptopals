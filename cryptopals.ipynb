{
 "cells": [
  {
   "cell_type": "markdown",
   "metadata": {},
   "source": [
    "## Set 1"
   ]
  },
  {
   "cell_type": "markdown",
   "metadata": {},
   "source": [
    "This is the story of my journey through [the cryptopals crypto challenges](https://cryptopals.com/), a journey which has opened my eyes to the joys of looking at a string of letters and numbers and seeing a bunch of ones and zeroes. \n",
    "\n",
    "My background in crypto is minimal: I took a cryptography class in college, pass-fail, and I understood approximately none of it. Also, I've tried [converting strings from base64](https://tracking-game.reaktor.com/signal/vs/noise/play) and pretty much always ending up in an error state."
   ]
  },
  {
   "cell_type": "markdown",
   "metadata": {},
   "source": [
    "###  Challenge 1: Convert hex to base64\n",
    "\n",
    "> The string:\n",
    ">\n",
    "> `49276d206b696c6c696e6720796f757220627261696e206c696b65206120706f69736f6e6f7573206d757368726f6f6d`\n",
    ">\n",
    "> Should produce\n",
    ">\n",
    "> `SSdtIGtpbGxpbmcgeW91ciBicmFpbiBsaWtlIGEgcG9pc29ub3VzIG11c2hyb29t`\n",
    ">\n",
    "> So go ahead and make that happen.\n",
    "\n",
    "There's a little hint at the bottom of the challenge: \"Always operate on raw bytes, never on encoded strings. Only use hex and base64 for pretty-printing.\"\n",
    "\n",
    "---\n",
    "\n",
    "A major theme through this experience is discovering the massive amounts of ambiguity living in the black boxes that make up any language more complicated than assembly code. Example: the _base-16 number_ `49276d206b...`, when converted to base64, should blah blah blah...\n",
    "\n",
    "#### the beginning: ascii to hex\n",
    "\n",
    "Let's say I have a string — which, for now, is defined as the result of concatenating zero or more ASCII characters. Here's an example string that I plucked out of nowhere: `I'm killing your brain like a poisonous mushroom`.\n",
    "\n",
    "Each character in the string is represented internally with a number greater than or equal to zero and less than 2<sup>8</sup>. Let's represent them in base-16, because we can write any hexadecimal number less than 256 (i.e., 2<sup>8</sup>) with only two hex-digits.\n",
    "\n",
    "\n",
    "| char | ASCII |\n",
    "| :--- | ----- |\n",
    "| I    | 49<sub>16</sub> |\n",
    "| '    | 27<sub>16</sub> |\n",
    "| m    | 6d<sub>16</sub> |\n",
    "| \\[Space\\] | 20<sub>16</sub> |\n",
    "| k    | 6b<sub>16</sub> |\n",
    "\n",
    "\n",
    "and so on. If you concatenate all those ASCII values from left to right, you'll get our mislabelled _base-16 number_ `49276d206b...`. I added whitespace to make it more readable.\n",
    "\n",
    "#### hex to \"raw bytes\"\n",
    "\n",
    "A base-16 number written with two hex-digits can be translated to a base-2 number written with eight bits (possibly including some leading zeroes).\n",
    "\n",
    "| char | hex             | binary\n",
    "| :--- | -----           | ------\n",
    "| I    | 49<sub>16</sub> | 01001001<sub>2</sub>\n",
    "| '    | 27<sub>16</sub> | 00100111<sub>2</sub>\n",
    "| m    | 6d<sub>16</sub> | 01101101<sub>2</sub>\n",
    "| \\[Space\\] | 20<sub>16</sub> | 00100000<sub>2</sub>\n",
    "| k    | 6b<sub>16</sub> | 01101011<sub>2</sub>\n",
    "\n",
    "and so on, again. If we concatenate the first three of those, we get 24 bits, which I've divided with whitespace into chunks of eight.\n",
    "\n",
    "    01001001 00100111 01101101\n",
    "\n",
    "#### \"raw bytes\" to base64\n",
    "\n",
    "Base64 takes three bytes — that is, three groups of eight bits each — and re-imagines them as four groups of six bits each:\n",
    "\n",
    "    01001001 00100111 01101101 =>\n",
    "    010010 010010 011101 101101\n",
    "    \n",
    "The last step is looking up each six-bit chunk in [a table](https://en.wikipedia.org/wiki/Base64#Base64_table) and translating it to a letter, number, or math symbol as appropriate.\n",
    "\n",
    "    010010 010010 011101 101101 => SSdt\n",
    "    \n",
    "Problem disambiguated!"
   ]
  },
  {
   "cell_type": "markdown",
   "metadata": {},
   "source": [
    "### [Challenge 1](https://cryptopals.com/sets/1/challenges/1) \n",
    "\n",
    "There's a little hint at the bottom of the challenge: \"Always operate on raw bytes, never on encoded strings. Only use hex and base64 for pretty-printing.\"\n",
    "\n",
    "Strings in Python are confusing. I mean, not normally. Normally they encapsulate all the blips and bloops happening underneath and at worst you have to think of them as a list of letters. But today we're drilling down till we find the pure natural ore of zeroes and ones that strings are built upon, and we're going to have to power through some slag to get there.\n",
    "\n",
    "The problem reads as follows:\n",
    "\n",
    "> The string:\n",
    "\n",
    "    49276d206b696c6c696e6720796f757220627261696e206c696b65206120706f69736f6e6f7573206d757368726f6f6d\n",
    "    \n",
    "> Should produce\n",
    "\n",
    "    SSdtIGtpbGxpbmcgeW91ciBicmFpbiBsaWtlIGEgcG9pc29ub3VzIG11c2hyb29t\n",
    "    \n",
    "> So go ahead and make that happen.\n",
    "\n",
    "Which is not quite right. Because while `49276d206b696c6c696e6720796f757220627261696e206c696b65206120706f69736f6e6f7573206d757368726f6f6d` is a string, you can plug it into the `bytes.fromhex` method and get something that looks like an even better string."
   ]
  },
  {
   "cell_type": "code",
   "execution_count": 1,
   "metadata": {},
   "outputs": [],
   "source": [
    "bytes.fromhex('49276d206b696c6c696e6720796f757220627261696e206c696b65206120706f69736f6e6f7573206d757368726f6f6d')"
   ]
  },
  {
   "cell_type": "markdown",
   "metadata": {},
   "source": [
    "That `bytes` object (note that I haven't called anything a `str` yet) is what we want to encode. 49276d206b696c6c696e6720796f757220627261696e206c696b65206120706f69736f6e6f7573206d757368726f6f6d is a hexadecimal number, specifically the number that you get when you map each character in \"I'm killing your brain like a poisonous mushroom\" to its ASCII code, convert each base-10 ASCII code to a two character hexadecimal number (possibly including a leading zero) and concatenate all of those hexadecimal numbers into a single big number.\n",
    "\n",
    "I'm going to make up some terminology just to clarify what's what.\n",
    "\n",
    "In my world, there's __plaintext__. Plaintext is what we're encoding, and it's always of good old type `str`."
   ]
  },
  {
   "cell_type": "code",
   "execution_count": 2,
   "metadata": {},
   "outputs": [],
   "source": [
    "hello = 'hello world'"
   ]
  },
  {
   "cell_type": "markdown",
   "metadata": {},
   "source": [
    "There's a __bytes__ object. It's [kinda well-documented](https://devdocs.io/python~3.7/library/stdtypes#bytes) in the Python docs."
   ]
  },
  {
   "cell_type": "code",
   "execution_count": 3,
   "metadata": {},
   "outputs": [],
   "source": [
    "by = bytes(hello, 'ascii')"
   ]
  },
  {
   "cell_type": "code",
   "execution_count": 4,
   "metadata": {},
   "outputs": [],
   "source": [
    "by"
   ]
  },
  {
   "cell_type": "markdown",
   "metadata": {},
   "source": [
    "There's also a __hex-encoded string__. A hex-encoded string is also of type `str` and all of its characters are in `string.hexdigits`. It's what you get when you run the algorithm I described above.\n",
    "\n",
    "~~~py\n",
    "hx = ''.join(hex(ord(i))[2:] for i in hello\n",
    "~~~\n",
    "\n",
    "I couldn't find a straightforward way to do this, but it looks to me like what's below isn't too bad."
   ]
  },
  {
   "cell_type": "code",
   "execution_count": 5,
   "metadata": {},
   "outputs": [],
   "source": [
    "hx = bytes.hex(by)"
   ]
  },
  {
   "cell_type": "code",
   "execution_count": 6,
   "metadata": {},
   "outputs": [],
   "source": [
    "hx"
   ]
  },
  {
   "cell_type": "markdown",
   "metadata": {},
   "source": [
    "There's a __hex-prefixed string__. This is what you get back from the `hex` built-in function. It starts with \"0x\", which makes it pretty useless."
   ]
  },
  {
   "cell_type": "code",
   "execution_count": 7,
   "metadata": {},
   "outputs": [],
   "source": [
    "n = int(hx, base=16)"
   ]
  },
  {
   "cell_type": "code",
   "execution_count": 8,
   "metadata": {},
   "outputs": [
    {
     "data": {
      "text/plain": [
       "126207244316550804821666916"
      ]
     },
     "execution_count": 8,
     "metadata": {},
     "output_type": "execute_result"
    }
   ],
   "source": [
    "n"
   ]
  },
  {
   "cell_type": "code",
   "execution_count": 9,
   "metadata": {},
   "outputs": [
    {
     "data": {
      "text/plain": [
       "'0x68656c6c6f20776f726c64'"
      ]
     },
     "execution_count": 9,
     "metadata": {},
     "output_type": "execute_result"
    }
   ],
   "source": [
    "hex(n)"
   ]
  },
  {
   "cell_type": "markdown",
   "metadata": {},
   "source": [
    "With all of our different ways to represent the same concatenation of characters finally sorted out, the problem becomes solvable."
   ]
  },
  {
   "cell_type": "code",
   "execution_count": 9,
   "metadata": {},
   "outputs": [
    {
     "data": {
      "text/plain": [
       "b'SSdtIGtpbGxpbmcgeW91ciBicmFpbiBsaWtlIGEgcG9pc29ub3VzIG11c2hyb29t'"
      ]
     },
     "execution_count": 9,
     "metadata": {},
     "output_type": "execute_result"
    }
   ],
   "source": [
    "import base64\n",
    "\n",
    "def to_base64(hexstring):\n",
    "    return base64.b64encode(bytes.fromhex(hexstring))\n",
    "    \n",
    "to_base64('49276d206b696c6c696e6720796f757220627261696e206c696b65206120706f69736f6e6f7573206d757368726f6f6d')"
   ]
  },
  {
   "cell_type": "markdown",
   "metadata": {},
   "source": [
    "### [Challenge 2](https://cryptopals.com/sets/1/challenges/2)\n",
    "\n",
    "Once again, you're given numbers as hex-encoded strings and asked to XOR them. Python has a bitwise XOR operator that takes two numbers as operands, so you could get away with just a little conversion:"
   ]
  },
  {
   "cell_type": "code",
   "execution_count": 11,
   "metadata": {},
   "outputs": [
    {
     "data": {
      "text/plain": [
       "'0x746865206b696420646f6e277420706c6179'"
      ]
     },
     "execution_count": 11,
     "metadata": {},
     "output_type": "execute_result"
    }
   ],
   "source": [
    "m = '1c0111001f010100061a024b53535009181c'\n",
    "n = '686974207468652062756c6c277320657965'\n",
    "\n",
    "hex(int(m, base=16) ^ int(n, base=16))"
   ]
  },
  {
   "cell_type": "markdown",
   "metadata": {},
   "source": [
    "But looking ahead, I don't think that's exactly what they want. I suspect that this is what they're getting at, iterating over each pair of bytes one at a time, XORing them and converting the result:"
   ]
  },
  {
   "cell_type": "code",
   "execution_count": 66,
   "metadata": {},
   "outputs": [
    {
     "data": {
      "text/plain": [
       "'746865206b696420646f6e277420706c6179'"
      ]
     },
     "execution_count": 66,
     "metadata": {},
     "output_type": "execute_result"
    }
   ],
   "source": [
    "mb = bytes.fromhex(m)\n",
    "nb = bytes.fromhex(n)\n",
    "\n",
    "bytes(x ^ y for x, y in zip(mb, nb)).hex()"
   ]
  },
  {
   "cell_type": "markdown",
   "metadata": {},
   "source": [
    "### [Challenge 3](https://cryptopals.com/sets/1/challenges/3)\n",
    "\n",
    "They don't really explain what single-byte XOR means, so I'll do it here."
   ]
  },
  {
   "cell_type": "code",
   "execution_count": 67,
   "metadata": {},
   "outputs": [],
   "source": [
    "def single_byte_xor(encrypted, key):\n",
    "    \"\"\"\n",
    "    Decrypt a message encoded with a single-byte key.\n",
    "    \n",
    "    :param encrypted: the message, a hex-encoded string\n",
    "    :param key: the key, 0 <= key < 2 ** 8\n",
    "    :return: the plaintext bytes\n",
    "    \"\"\"\n",
    "    return bytes(c ^ key for c in bytes.fromhex(encrypted))"
   ]
  },
  {
   "cell_type": "markdown",
   "metadata": {},
   "source": [
    "Taking a cue from above, or looking ahead to the next exercise, that function could also be written as:\n",
    "\n",
    "~~~py\n",
    "def single_byte_xor(encrypted, key):\n",
    "    return bytes(x ^ y for x, y in zip(bytes.fromhex(encrypted), itertools.cycle(key)))\n",
    "~~~"
   ]
  },
  {
   "cell_type": "markdown",
   "metadata": {},
   "source": [
    "An assumption I'm making that isn't stated in the problem is that all the characters in the plaintext are _printable_.\n",
    "\n",
    "TIL that _printable_ in Python means two different things. I assumed that for all strings `s` of length 1 where `s[0]` is an ASCII character, then `s.isprintable() == s in string.printable`. This is incorrect, and in particular, `'\\n'.printable() != '\\n' in string.printable`."
   ]
  },
  {
   "cell_type": "code",
   "execution_count": 74,
   "metadata": {},
   "outputs": [],
   "source": [
    "import string\n",
    "\n",
    "def is_printable(text):\n",
    "    return all(ch in string.printable for ch in text)"
   ]
  },
  {
   "cell_type": "markdown",
   "metadata": {},
   "source": [
    "We'll take our given ciphertext, try each key from 1 (inclusive) to 2 ** 8 = 256 (exclusive), and see what we get."
   ]
  },
  {
   "cell_type": "code",
   "execution_count": 101,
   "metadata": {},
   "outputs": [],
   "source": [
    "def decrypt_single_byte_xor(encrypted):\n",
    "    possible_plaintexts = [single_byte_xor(encrypted, key) for key in range(1, 2 ** 8)]\n",
    "    \n",
    "    # convert ASCII codes to characters\n",
    "    possible_plaintexts = [list(map(lambda c: chr(c), p)) for p in possible_plaintexts]\n",
    "    \n",
    "    # assume all characters in plaintext are printable, as described above\n",
    "    possible_plaintexts = list(filter(lambda t: is_printable(t), possible_plaintexts))\n",
    "    \n",
    "    # pretty-print\n",
    "    return [''.join(t) for t in possible_plaintexts]"
   ]
  },
  {
   "cell_type": "code",
   "execution_count": 102,
   "metadata": {},
   "outputs": [
    {
     "data": {
      "text/plain": [
       "['\\\\pptvqx?R\\\\8l?svtz?~?opjq{?py?}~|pq',\n",
       " 'Q}}y{|u2_Q5a2~{yw2s2b}g|v2}t2psq}|',\n",
       " 'Vzz~|{r5XV2f5y|~p5t5ez`{q5zs5wtvz{',\n",
       " 'Txx|~yp7ZT0d7{~|r7v7gxbys7xq7uvtxy',\n",
       " 'Kggcafo(EK/{(dacm(i(xg}fl(gn(jikgf',\n",
       " 'Jffb`gn)DJ.z)e`bl)h)yf|gm)fo)khjfg',\n",
       " 'Hdd`bel+FH,x+gb`n+j+{d~eo+dm+ijhde',\n",
       " 'Nbbfdcj-@N*~-adfh-l-}bxci-bk-olnbc',\n",
       " 'Maaeg`i.CM)}.bgek.o.~a{`j.ah.loma`',\n",
       " \"Cooking MC's like a pound of bacon\",\n",
       " 'Bnnjhof!LB&r!mhjd!`!qntoe!ng!c`bno',\n",
       " 'Ammikle\"OA%q\"nkig\"c\"rmwlf\"md\"`caml',\n",
       " '@llhjmd#N@$p#ojhf#b#slvmg#le#ab`lm',\n",
       " 'Gkkomjc$IG#w$hmoa$e$tkqj`$kb$fegkj',\n",
       " 'Fjjnlkb%HF\"v%iln`%d%ujpka%jc%gdfjk',\n",
       " 'Eiimoha&KE!u&jomc&g&vishb&i`&dgeih',\n",
       " \"Dhhlni`'JD t'knlb'f'whric'ha'efdhi\",\n",
       " 'iEEACDM\\ngi\\rY\\nFCAO\\nK\\nZE_DN\\nEL\\nHKIED',\n",
       " 'hDD@BEL\\x0bfh\\x0cX\\x0bGB@N\\x0bJ\\x0b[D^EO\\x0bDM\\x0bIJHDE',\n",
       " 'oCCGEBK\\x0cao\\x0b_\\x0c@EGI\\x0cM\\x0c\\\\CYBH\\x0cCJ\\x0cNMOCB',\n",
       " 'nBBFDCJ\\r`n\\n^\\rADFH\\rL\\r]BXCI\\rBK\\rOLNBC']"
      ]
     },
     "execution_count": 102,
     "metadata": {},
     "output_type": "execute_result"
    }
   ],
   "source": [
    "decrypt_single_byte_xor('1b37373331363f78151b7f2b783431333d78397828372d363c78373e783a393b3736')"
   ]
  },
  {
   "cell_type": "markdown",
   "metadata": {},
   "source": [
    "Only 21 keys produce something that looks like text, and it's easy to scan the list and discover one with English (mostly) words separated by spaces. But I assume it'll be useful to go through the second part of the instructions: \n",
    "\n",
    "> Devise some method for \"scoring\" a piece of English plaintext. Character frequency is a good metric.\n",
    "\n",
    "Did some Googling and found a table of letter frequencies in English:"
   ]
  },
  {
   "cell_type": "code",
   "execution_count": 80,
   "metadata": {},
   "outputs": [],
   "source": [
    "letter_frequencies = {\n",
    "    'a': 0.0834,\n",
    "    'b': 0.0154,\n",
    "    'c': 0.0273,\n",
    "    'd': 0.0414,\n",
    "    'e': 0.126,\n",
    "    'f': 0.0203,\n",
    "    'g': 0.0192,\n",
    "    'h': 0.0611,\n",
    "    'i': 0.0671,\n",
    "    'j': 0.0023,\n",
    "    'k': 0.0086,\n",
    "    'l': 0.0424,\n",
    "    'm': 0.0253,\n",
    "    'n': 0.068,\n",
    "    'o': 0.077,\n",
    "    'p': 0.0166,\n",
    "    'q': 0.0009,\n",
    "    'r': 0.0568,\n",
    "    's': 0.0611,\n",
    "    't': 0.0937,\n",
    "    'u': 0.0285,\n",
    "    'v': 0.0106,\n",
    "    'w': 0.0234,\n",
    "    'x': 0.002,\n",
    "    'y': 0.0204,\n",
    "    'z': 0.0006\n",
    "}"
   ]
  },
  {
   "cell_type": "markdown",
   "metadata": {},
   "source": [
    "This might need some refinement because I'm not a statistician, but it seemed reasonable to me to verify the (likelihood of) correctness of our English plaintext by summing, for each letter, the difference between the expected number of times the letter should appear in our plaintext and the actual number of times the letter does appear. There might be subtleties to this that I'm missing, but it worked for this challenge and the next one."
   ]
  },
  {
   "cell_type": "code",
   "execution_count": 105,
   "metadata": {},
   "outputs": [],
   "source": [
    "from collections import namedtuple\n",
    "\n",
    "Score = namedtuple('Score', ['value', 'plaintext'])\n",
    "\n",
    "nil_score = Score(float('inf'), plaintext=None)"
   ]
  },
  {
   "cell_type": "markdown",
   "metadata": {},
   "source": [
    "#### Digression\n",
    "\n",
    "I want to take a moment and share my love for the venerable `namedtuple`. It has everything you want in a data structure: metaprogrammatically-generated accessor methods, immutability, and... I guess that's it, but it's still amazing.\n",
    "\n",
    "For my work-work, I write code in Java and Javascript, and the bane of my day is the constant scaffolding and re-scaffolding of these blobby containers across a bunch of different packages.\n",
    "\n",
    "~~~java\n",
    "package cryptopals.challenge.model\n",
    "\n",
    "class Score {\n",
    "\n",
    "    private final double score;\n",
    "    private final String plaintext;\n",
    "  \n",
    "    private Score(Builder builder) {\n",
    "        this.score = builder.score;\n",
    "        this.plaintext = builder.plaintext;\n",
    "    }\n",
    "    \n",
    "    public double getScore() { return score; }\n",
    "    \n",
    "    public String getPlaintext() { return plaintext; }\n",
    "    \n",
    "    public static Builder builder() { return new Builder(); }\n",
    "    \n",
    "    public static class Builder {\n",
    "    \n",
    "        private double score;\n",
    "        private String plaintext;\n",
    "        \n",
    "        public void setScore(double score) {\n",
    "            this.score = score;\n",
    "            return this;\n",
    "        }\n",
    "        \n",
    "        public void setPlaintext(String plaintext) {\n",
    "            this.plaintext = plaintext;\n",
    "            return this;\n",
    "        }\n",
    "        \n",
    "        public Score build() {\n",
    "            return new Score(this);\n",
    "        }\n",
    "    }\n",
    "}\n",
    "~~~\n",
    "\n",
    "... compared to a single freaking line in Python! Rant over!"
   ]
  },
  {
   "cell_type": "code",
   "execution_count": 82,
   "metadata": {},
   "outputs": [],
   "source": [
    "from collections import Counter\n",
    "\n",
    "def score(text):\n",
    "    \"\"\"\n",
    "    \"Scores\" the likelihood that a piece of text is in English.\n",
    "    \n",
    "    :param text: the text in question, as a str\n",
    "    :return: a value indicating how close `text` is to expected English text, in terms of letter frequency. \n",
    "        The lower the value, the more likely the text is English.\n",
    "    \"\"\"\n",
    "    # ignore non-letter characters\n",
    "    counter = Counter(c.lower() for c in text if c.isalpha())\n",
    "    letter_count = sum(counter.values())\n",
    "    \n",
    "    if not letter_count:\n",
    "        return float('inf')\n",
    "    \n",
    "    total_variance = 0.0\n",
    "    for letter, frequency in letter_frequencies.items():\n",
    "        total_variance += abs(counter[letter] / letter_count - frequency)\n",
    "        \n",
    "    return total_variance"
   ]
  },
  {
   "cell_type": "markdown",
   "metadata": {},
   "source": [
    "Including a call to `score` in our `decrypt_single_byte_xor` function: "
   ]
  },
  {
   "cell_type": "code",
   "execution_count": 103,
   "metadata": {},
   "outputs": [],
   "source": [
    "def decrypt_single_byte_xor(encrypted):\n",
    "    possible_plaintexts = [single_byte_xor(encrypted, key) for key in range(1, 2 ** 8)]\n",
    "    possible_plaintexts = [list(map(lambda c: chr(c), p)) for p in possible_plaintexts]\n",
    "    possible_plaintexts = list(filter(lambda t: is_printable(t), possible_plaintexts))\n",
    "    \n",
    "    if not possible_plaintexts:\n",
    "        return nil_score\n",
    "    \n",
    "    return min(map(lambda p: Score(score(p), ''.join(p)), possible_plaintexts))"
   ]
  },
  {
   "cell_type": "code",
   "execution_count": 92,
   "metadata": {},
   "outputs": [
    {
     "data": {
      "text/plain": [
       "Score(value=0.8083555555555556, plaintext=\"Cooking MC's like a pound of bacon\")"
      ]
     },
     "execution_count": 92,
     "metadata": {},
     "output_type": "execute_result"
    }
   ],
   "source": [
    "decrypt_single_byte_xor('1b37373331363f78151b7f2b783431333d78397828372d363c78373e783a393b3736')"
   ]
  },
  {
   "cell_type": "markdown",
   "metadata": {},
   "source": [
    "### Challenge 4\n",
    "\n",
    "I don't see a way to do this without decrypting each line with every possible key until we find some plaintext that looks like English."
   ]
  },
  {
   "cell_type": "code",
   "execution_count": 114,
   "metadata": {},
   "outputs": [
    {
     "name": "stdout",
     "output_type": "stream",
     "text": [
      "Decryption(score=Score(value=0.6482, plaintext='Now that the party is jumping\\n'), ciphertext='7b5a4215415d544115415d5015455447414c155c46155f4058455c5b523f', line_number=170)\n"
     ]
    }
   ],
   "source": [
    "Decryption = namedtuple('Decryption', ['score', 'ciphertext', 'line_number'])\n",
    "\n",
    "with open('s01_c04.txt') as file:    \n",
    "    print(min((Decryption(decrypt_single_byte_xor(line.strip()), line.strip(), idx) \n",
    "               for idx, line in enumerate(file))))"
   ]
  },
  {
   "cell_type": "markdown",
   "metadata": {},
   "source": [
    "### Challenge 5\n",
    "\n",
    "Repeating-key XOR is the generalized case of single-byte XOR.\n",
    "\n",
    "Given a `key`, each byte of the plaintext at index i is XOR'd with `key[i % len(key)]` and the results converted to two-character hexadecimal numbers, which are concatenated together."
   ]
  },
  {
   "cell_type": "code",
   "execution_count": 118,
   "metadata": {},
   "outputs": [],
   "source": [
    "import itertools\n",
    "\n",
    "def repeating_key_xor(plaintext, key):\n",
    "    \"\"\"\n",
    "    Encrypt plaintext with the given key.\n",
    "    \"\"\"\n",
    "    encrypted = [p ^ k for p, k in zip((ord(c) for c in plaintext), itertools.cycle([ord(c) for c in key]))]\n",
    "    return bytes(encrypted).hex()"
   ]
  },
  {
   "cell_type": "code",
   "execution_count": 119,
   "metadata": {},
   "outputs": [
    {
     "data": {
      "text/plain": [
       "'0b3637272a2b2e63622c2e69692a23693a2a3c6324202d623d63343c2a26226324272765272a282b2f20152d0c69242a69203728393c69342d2c2d6500632d2c22376922652a3a282b2229'"
      ]
     },
     "execution_count": 119,
     "metadata": {},
     "output_type": "execute_result"
    }
   ],
   "source": [
    "repeating_key_xor(\"Burning 'em, if you ain't quick and nimble\\\\nI go crazy when I hear a cymbal\", \"ICE\")"
   ]
  },
  {
   "cell_type": "code",
   "execution_count": null,
   "metadata": {},
   "outputs": [],
   "source": []
  }
 ],
 "metadata": {
  "kernelspec": {
   "display_name": "Python 3",
   "language": "python",
   "name": "python3"
  },
  "language_info": {
   "codemirror_mode": {
    "name": "ipython",
    "version": 3
   },
   "file_extension": ".py",
   "mimetype": "text/x-python",
   "name": "python",
   "nbconvert_exporter": "python",
   "pygments_lexer": "ipython3",
   "version": "3.8.2"
  }
 },
 "nbformat": 4,
 "nbformat_minor": 4
}
