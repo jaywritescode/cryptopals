{
 "cells": [
  {
   "cell_type": "markdown",
   "metadata": {},
   "source": [
    "# Text and binary sequence types\n",
    "\n",
    "I rarely need to dig into the differences between Python's various stringy types, but Crypto-world becomes way more navigable once I can wrap my head around the distinction. There's **str**, which we're all familiar with, and **bytes**, which implements the \"buffer protocol,\" a lower-level C abstraction.\n",
    "\n",
    "For the time being, we'll assume that all of the characters in a **str** are ASCII-compatible. All characters in a **bytes** are, by definition, ASCII-compatible.\n",
    "\n",
    "Thanks to that assumption, each character `ch` in a **str** or **bytes** is such that `0 <= ord(ch) < 2 ** 8`. One character corresponds to one byte.\n",
    "\n",
    "Two hexadecimal digits also corresponds to one byte, so that means we can translate between **bytes** and base-16 numbers. So in the first challenge, where the instructions are to encode this input \"string\"...\n",
    "\n",
    "    49276d206b696c6c696e6720796f757220627261696e206c696b65206120706f69736f6e6f7573206d757368726f6f6d\n",
    "    \n",
    "...what you're given is a concatenation of two-digit hexadecimal numbers, in the same way that a string is a concatenation of characters or a decimal number is a concatenation of digits.\n",
    "\n",
    "At this point, I'm going to make up some terminology:\n",
    "\n",
    "A **hex-encoded string** is a **str** `s` such that for all `ch` in `s`, `ch in string.hexdigits`. A hex-encoded string is an intermediatary kind of value, a pretty-printable way of writing the series of zeroes and ones that Crypto-world actually works with.\n",
    "\n",
    "### Conversions"
   ]
  },
  {
   "cell_type": "code",
   "execution_count": 1,
   "metadata": {},
   "outputs": [
    {
     "data": {
      "text/plain": [
       "b'hello world!'"
      ]
     },
     "execution_count": 1,
     "metadata": {},
     "output_type": "execute_result"
    }
   ],
   "source": [
    "# Convert str to bytes\n",
    "s = 'hello world!'\n",
    "s.encode('ascii')"
   ]
  },
  {
   "cell_type": "code",
   "execution_count": 2,
   "metadata": {},
   "outputs": [
    {
     "data": {
      "text/plain": [
       "b'hello world!'"
      ]
     },
     "execution_count": 2,
     "metadata": {},
     "output_type": "execute_result"
    }
   ],
   "source": [
    "# Another way to convert str to bytes\n",
    "s = 'hello world!'\n",
    "bytes(s, 'ascii')"
   ]
  },
  {
   "cell_type": "code",
   "execution_count": 3,
   "metadata": {},
   "outputs": [
    {
     "data": {
      "text/plain": [
       "'68656c6c6f20776f726c6421'"
      ]
     },
     "execution_count": 3,
     "metadata": {},
     "output_type": "execute_result"
    }
   ],
   "source": [
    "# Convert bytes to hex-encoded string\n",
    "s = b'hello world!'\n",
    "bytes.hex(s)"
   ]
  },
  {
   "cell_type": "code",
   "execution_count": 4,
   "metadata": {},
   "outputs": [
    {
     "data": {
      "text/plain": [
       "b'hello world!'"
      ]
     },
     "execution_count": 4,
     "metadata": {},
     "output_type": "execute_result"
    }
   ],
   "source": [
    "# Convert hex-encoded string to bytes\n",
    "s = '68656c6c6f20776f726c6421'\n",
    "bytes.fromhex(s)"
   ]
  },
  {
   "cell_type": "code",
   "execution_count": 5,
   "metadata": {},
   "outputs": [
    {
     "data": {
      "text/plain": [
       "b'aGVsbG8gd29ybGQh'"
      ]
     },
     "execution_count": 5,
     "metadata": {},
     "output_type": "execute_result"
    }
   ],
   "source": [
    "# Base64-encode bytes\n",
    "import base64\n",
    "s = b'hello world!'\n",
    "base64.b64encode(s)"
   ]
  }
 ],
 "metadata": {
  "kernelspec": {
   "display_name": "Python 3",
   "language": "python",
   "name": "python3"
  },
  "language_info": {
   "codemirror_mode": {
    "name": "ipython",
    "version": 3
   },
   "file_extension": ".py",
   "mimetype": "text/x-python",
   "name": "python",
   "nbconvert_exporter": "python",
   "pygments_lexer": "ipython3",
   "version": "3.8.2"
  }
 },
 "nbformat": 4,
 "nbformat_minor": 4
}
